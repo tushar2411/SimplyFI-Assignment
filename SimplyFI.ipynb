{
  "nbformat": 4,
  "nbformat_minor": 0,
  "metadata": {
    "colab": {
      "provenance": []
    },
    "kernelspec": {
      "name": "python3",
      "display_name": "Python 3"
    },
    "language_info": {
      "name": "python"
    }
  },
  "cells": [
    {
      "cell_type": "markdown",
      "source": [
        "**write a python code for converting a integer value to indian currancy notations, without using the currency library**"
      ],
      "metadata": {
        "id": "s4qr3Tz_t-nI"
      }
    },
    {
      "cell_type": "code",
      "source": [
        "\n",
        "def formatINR(number):\n",
        "    s, *d = str(number).partition(\".\")\n",
        "    r = \",\".join([s[x-2:x] for x in range(-3, -len(s), -2)][::-1] + [s[-3:]])\n",
        "    return \"\".join([r] + d)\n",
        "\n",
        "amount = 504678\n",
        "formatted_amount = formatINR(amount)\n",
        "print(formatted_amount)\n"
      ],
      "metadata": {
        "colab": {
          "base_uri": "https://localhost:8080/"
        },
        "id": "zmgLIsfDs6ew",
        "outputId": "ce15dd64-1f30-4e99-8991-50b8defd33eb"
      },
      "execution_count": 2,
      "outputs": [
        {
          "output_type": "stream",
          "name": "stdout",
          "text": [
            "5,04,678\n"
          ]
        }
      ]
    },
    {
      "cell_type": "markdown",
      "source": [
        "The formatINR function takes a number as input and returns a formatted string representing the amount in Indian Rupees (INR).\n",
        "\n",
        "s, *d = str(number).partition(\".\"): This line converts the input number to a string and separates it into two parts: the integer part (s) and the decimal part (d), if any. The dot (\".\") is used as the separator.\n",
        "\n",
        "r = \",\".join([s[x-2:x] for x in range(-3, -len(s), -2)][::-1] + [s[-3:]]): This line formats the integer part (s) of the number. It does the following steps:\n",
        "\n",
        "* It loops through the integer part of the number in reverse order, taking groups of two digits at a time.\n",
        "* Each group of two digits is joined with a comma.\n",
        "* The resulting groups are reversed again to get the correct order.\n",
        "* The last three digits of the integer part are added separately without a comma.\n",
        "* The final formatted integer part is assigned to the variable r.\n",
        "\n",
        "\n",
        "return \"\".join([r] + d): This line combines the formatted integer part (r) with the decimal part (d), if any, to form the final formatted string. The two parts are joined together without any additional characters.\n",
        "\n",
        "amount = 504678: Here, we define a variable amount with the value 504678, representing the input number.\n",
        "\n",
        "formatted_amount = formatINR(amount): The formatINR function is called with the amount as the argument, and the returned formatted string is assigned to the variable formatted_amount.\n",
        "\n",
        "print(formatted_amount): Finally, the formatted amount is printed to the console."
      ],
      "metadata": {
        "id": "31KfMUF2uess"
      }
    },
    {
      "cell_type": "markdown",
      "source": [
        "**Question 2**"
      ],
      "metadata": {
        "id": "Cl6YAfjSu0_f"
      }
    },
    {
      "cell_type": "code",
      "source": [
        "# Function to solve the problem for a single test case\n",
        "def minimumShots(N, K, heights):\n",
        "    shots = 0\n",
        "\n",
        "    for height in heights:\n",
        "        if height > K:\n",
        "            shots += 1\n",
        "        if height == K:\n",
        "            break\n",
        "\n",
        "    return shots\n",
        "\n",
        "\n",
        "# Input\n",
        "input_data = [\n",
        "    (4, 10, [2, 13, 4, 16]),\n",
        "    (5, 8, [9, 3, 8, 8, 4]),\n",
        "    (4, 6, [1, 2, 3, 4])\n",
        "]\n",
        "\n",
        "# Solve the problem for each test case\n",
        "for test_case in input_data:\n",
        "    N, K, heights = test_case\n",
        "\n",
        "    # Call the function to solve the problem for the current test case\n",
        "    result = minimumShots(N, K, heights)\n",
        "\n",
        "    # Print the result for the current test case\n",
        "    print(result)\n"
      ],
      "metadata": {
        "colab": {
          "base_uri": "https://localhost:8080/"
        },
        "id": "UTytjlqSzoKm",
        "outputId": "5f59799a-b96b-4ccd-d7ca-498cf0cbb907"
      },
      "execution_count": 5,
      "outputs": [
        {
          "output_type": "stream",
          "name": "stdout",
          "text": [
            "2\n",
            "1\n",
            "0\n"
          ]
        }
      ]
    },
    {
      "cell_type": "markdown",
      "source": [
        "We define a function minimumShots that takes three parameters: N, K, and heights. This function is responsible for solving the problem for a single test case.\n",
        "\n",
        "Inside the minimumShots function, we initialize a variable shots to keep track of the number of players who need to get shot. This variable starts at 0.\n",
        "\n",
        "We iterate over each height in the heights list, which represents the heights of the players.\n",
        "\n",
        "For each player's height, we check if it is greater than K, the height of Gi-Hun and Ali. If a player's height is greater than K, it means they are taller than Gi-Hun and Ali, and they need to get shot. In this case, we increment the shots variable by 1.\n",
        "\n",
        "Additionally, if a player's height is equal to K, it means they have the same height as Gi-Hun and Ali. According to the problem statement, even if there are players with the same height, Ali will be visible in Gi-Hun's line of sight. Therefore, we break out of the loop at this point.\n",
        "\n",
        "After iterating through all the players' heights, we return the value of shots, which represents the minimum number of players who need to get shot in order for Ali to be visible to Gi-Hun.\n",
        "\n",
        "The code then defines an input_data list that contains multiple test cases. Each test case is represented as a tuple (N, K, heights), where N is the number of players, K is the height of Gi-Hun and Ali, and heights is the list of heights of the players between Gi-Hun and Ali.\n",
        "\n",
        "The code then loops over each test case in the input_data list.\n",
        "\n",
        "For each test case, it extracts the values of N, K, and heights from the tuple.\n",
        "\n",
        "It calls the minimumShots function with the extracted values to solve the problem for the current test case.\n",
        "\n",
        "The result is stored in the result variable.\n",
        "\n",
        "Finally, the result is printed for each test case."
      ],
      "metadata": {
        "id": "QlhTMuQF0mwB"
      }
    }
  ]
}